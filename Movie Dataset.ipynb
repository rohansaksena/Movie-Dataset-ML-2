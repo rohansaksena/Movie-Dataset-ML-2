{
 "cells": [
  {
   "cell_type": "markdown",
   "id": "2f51f4d7",
   "metadata": {},
   "source": [
    "# Movie Dataset\n",
    "This dataset contains information about several Movies released during the past 10 years containing there Ranks, Release Dates,\tMovie Title, Production Budget,  Worldwide Gross, Domestic Gross.We perform Linear Regression on our dataset to make some predicitons.The data has been collected from 'www.the-numbers.com/movies/budget'"
   ]
  },
  {
   "cell_type": "markdown",
   "id": "de97f07a",
   "metadata": {},
   "source": [
    "### *The Imports*"
   ]
  },
  {
   "cell_type": "code",
   "execution_count": 20,
   "id": "df2b45dc",
   "metadata": {},
   "outputs": [],
   "source": [
    "import pandas as pd\n",
    "import numpy as np\n",
    "import seaborn as sns\n",
    "import matplotlib.pyplot as plt\n",
    "import datetime as dt"
   ]
  },
  {
   "cell_type": "markdown",
   "id": "3d8b3377",
   "metadata": {},
   "source": [
    "### Reading the data"
   ]
  },
  {
   "cell_type": "code",
   "execution_count": 3,
   "id": "0e80e6d5",
   "metadata": {},
   "outputs": [
    {
     "data": {
      "text/html": [
       "<div>\n",
       "<style scoped>\n",
       "    .dataframe tbody tr th:only-of-type {\n",
       "        vertical-align: middle;\n",
       "    }\n",
       "\n",
       "    .dataframe tbody tr th {\n",
       "        vertical-align: top;\n",
       "    }\n",
       "\n",
       "    .dataframe thead th {\n",
       "        text-align: right;\n",
       "    }\n",
       "</style>\n",
       "<table border=\"1\" class=\"dataframe\">\n",
       "  <thead>\n",
       "    <tr style=\"text-align: right;\">\n",
       "      <th></th>\n",
       "      <th>Rank</th>\n",
       "      <th>Release Date</th>\n",
       "      <th>Movie Title</th>\n",
       "      <th>Production Budget ($)</th>\n",
       "      <th>Worldwide Gross ($)</th>\n",
       "      <th>Domestic Gross ($)</th>\n",
       "    </tr>\n",
       "  </thead>\n",
       "  <tbody>\n",
       "    <tr>\n",
       "      <th>0</th>\n",
       "      <td>5293</td>\n",
       "      <td>8/2/1915</td>\n",
       "      <td>The Birth of a Nation</td>\n",
       "      <td>$110,000</td>\n",
       "      <td>$11,000,000</td>\n",
       "      <td>$10,000,000</td>\n",
       "    </tr>\n",
       "    <tr>\n",
       "      <th>1</th>\n",
       "      <td>5140</td>\n",
       "      <td>5/9/1916</td>\n",
       "      <td>Intolerance</td>\n",
       "      <td>$385,907</td>\n",
       "      <td>$0</td>\n",
       "      <td>$0</td>\n",
       "    </tr>\n",
       "    <tr>\n",
       "      <th>2</th>\n",
       "      <td>5230</td>\n",
       "      <td>12/24/1916</td>\n",
       "      <td>20,000 Leagues Under the Sea</td>\n",
       "      <td>$200,000</td>\n",
       "      <td>$8,000,000</td>\n",
       "      <td>$8,000,000</td>\n",
       "    </tr>\n",
       "    <tr>\n",
       "      <th>3</th>\n",
       "      <td>5299</td>\n",
       "      <td>9/17/1920</td>\n",
       "      <td>Over the Hill to the Poorhouse</td>\n",
       "      <td>$100,000</td>\n",
       "      <td>$3,000,000</td>\n",
       "      <td>$3,000,000</td>\n",
       "    </tr>\n",
       "    <tr>\n",
       "      <th>4</th>\n",
       "      <td>5222</td>\n",
       "      <td>1/1/1925</td>\n",
       "      <td>The Big Parade</td>\n",
       "      <td>$245,000</td>\n",
       "      <td>$22,000,000</td>\n",
       "      <td>$11,000,000</td>\n",
       "    </tr>\n",
       "  </tbody>\n",
       "</table>\n",
       "</div>"
      ],
      "text/plain": [
       "   Rank Release Date                     Movie Title Production Budget ($)  \\\n",
       "0  5293     8/2/1915           The Birth of a Nation              $110,000   \n",
       "1  5140     5/9/1916                     Intolerance              $385,907   \n",
       "2  5230   12/24/1916    20,000 Leagues Under the Sea              $200,000   \n",
       "3  5299    9/17/1920  Over the Hill to the Poorhouse              $100,000   \n",
       "4  5222     1/1/1925                  The Big Parade              $245,000   \n",
       "\n",
       "  Worldwide Gross ($) Domestic Gross ($)  \n",
       "0         $11,000,000        $10,000,000  \n",
       "1                  $0                 $0  \n",
       "2          $8,000,000         $8,000,000  \n",
       "3          $3,000,000         $3,000,000  \n",
       "4         $22,000,000        $11,000,000  "
      ]
     },
     "execution_count": 3,
     "metadata": {},
     "output_type": "execute_result"
    }
   ],
   "source": [
    "movie = pd.read_csv(\"2.2 cost_revenue_dirty.csv.csv\")\n",
    "movie.head()"
   ]
  },
  {
   "cell_type": "markdown",
   "id": "db51a3df",
   "metadata": {},
   "source": [
    "### Data Cleaning"
   ]
  },
  {
   "cell_type": "markdown",
   "id": "49fcab0d",
   "metadata": {},
   "source": [
    "### Removing Data Cells with 0 Gross Produce"
   ]
  },
  {
   "cell_type": "code",
   "execution_count": 6,
   "id": "c991a651",
   "metadata": {},
   "outputs": [],
   "source": [
    "movie.drop(movie[(movie[\"Worldwide Gross ($)\"] == '$0') & (movie[\"Domestic Gross ($)\"] == '$0')].index,inplace=True)"
   ]
  },
  {
   "cell_type": "markdown",
   "id": "5f6ccebc",
   "metadata": {},
   "source": [
    "### Removing the commas and dollar sign from the columns"
   ]
  },
  {
   "cell_type": "code",
   "execution_count": 7,
   "id": "61b5b67b",
   "metadata": {},
   "outputs": [],
   "source": [
    "movie['Worldwide Gross ($)'] = movie['Worldwide Gross ($)'].str.replace('$','',regex=True)\n",
    "movie['Worldwide Gross ($)'] = movie['Worldwide Gross ($)'].str.replace(',','',regex=True)\n",
    "movie['Domestic Gross ($)'] = movie['Domestic Gross ($)'].str.replace('$','',regex=True)\n",
    "movie['Domestic Gross ($)'] = movie['Domestic Gross ($)'].str.replace(',','',regex=True)\n",
    "movie['Production Budget ($)'] = movie['Production Budget ($)'].str.replace('$','',regex=True)\n",
    "movie['Production Budget ($)'] = movie['Production Budget ($)'].str.replace(',','',regex=True)"
   ]
  },
  {
   "cell_type": "code",
   "execution_count": 8,
   "id": "bcafd233",
   "metadata": {},
   "outputs": [
    {
     "data": {
      "text/html": [
       "<div>\n",
       "<style scoped>\n",
       "    .dataframe tbody tr th:only-of-type {\n",
       "        vertical-align: middle;\n",
       "    }\n",
       "\n",
       "    .dataframe tbody tr th {\n",
       "        vertical-align: top;\n",
       "    }\n",
       "\n",
       "    .dataframe thead th {\n",
       "        text-align: right;\n",
       "    }\n",
       "</style>\n",
       "<table border=\"1\" class=\"dataframe\">\n",
       "  <thead>\n",
       "    <tr style=\"text-align: right;\">\n",
       "      <th></th>\n",
       "      <th>Rank</th>\n",
       "      <th>Release Date</th>\n",
       "      <th>Movie Title</th>\n",
       "      <th>Production Budget ($)</th>\n",
       "      <th>Worldwide Gross ($)</th>\n",
       "      <th>Domestic Gross ($)</th>\n",
       "    </tr>\n",
       "  </thead>\n",
       "  <tbody>\n",
       "    <tr>\n",
       "      <th>5378</th>\n",
       "      <td>914</td>\n",
       "      <td>10/2/2017</td>\n",
       "      <td>Fifty Shades Darker</td>\n",
       "      <td>55000000</td>\n",
       "      <td>376856949</td>\n",
       "      <td>114434010</td>\n",
       "    </tr>\n",
       "    <tr>\n",
       "      <th>5379</th>\n",
       "      <td>1295</td>\n",
       "      <td>10/2/2017</td>\n",
       "      <td>John Wick: Chapter Two</td>\n",
       "      <td>40000000</td>\n",
       "      <td>166893990</td>\n",
       "      <td>92029184</td>\n",
       "    </tr>\n",
       "    <tr>\n",
       "      <th>5380</th>\n",
       "      <td>70</td>\n",
       "      <td>10/3/2017</td>\n",
       "      <td>Kong: Skull Island</td>\n",
       "      <td>185000000</td>\n",
       "      <td>561137727</td>\n",
       "      <td>168052812</td>\n",
       "    </tr>\n",
       "    <tr>\n",
       "      <th>5381</th>\n",
       "      <td>94</td>\n",
       "      <td>12/5/2017</td>\n",
       "      <td>King Arthur: Legend of the Sword</td>\n",
       "      <td>175000000</td>\n",
       "      <td>140012608</td>\n",
       "      <td>39175066</td>\n",
       "    </tr>\n",
       "    <tr>\n",
       "      <th>5382</th>\n",
       "      <td>1254</td>\n",
       "      <td>12/5/2017</td>\n",
       "      <td>Snatched</td>\n",
       "      <td>42000000</td>\n",
       "      <td>57850343</td>\n",
       "      <td>45850343</td>\n",
       "    </tr>\n",
       "  </tbody>\n",
       "</table>\n",
       "</div>"
      ],
      "text/plain": [
       "      Rank Release Date                       Movie Title  \\\n",
       "5378   914    10/2/2017               Fifty Shades Darker   \n",
       "5379  1295    10/2/2017            John Wick: Chapter Two   \n",
       "5380    70    10/3/2017                Kong: Skull Island   \n",
       "5381    94    12/5/2017  King Arthur: Legend of the Sword   \n",
       "5382  1254    12/5/2017                          Snatched   \n",
       "\n",
       "     Production Budget ($) Worldwide Gross ($) Domestic Gross ($)  \n",
       "5378              55000000           376856949          114434010  \n",
       "5379              40000000           166893990           92029184  \n",
       "5380             185000000           561137727          168052812  \n",
       "5381             175000000           140012608           39175066  \n",
       "5382              42000000            57850343           45850343  "
      ]
     },
     "execution_count": 8,
     "metadata": {},
     "output_type": "execute_result"
    }
   ],
   "source": [
    "movie.tail()"
   ]
  },
  {
   "cell_type": "markdown",
   "id": "c2ce066f",
   "metadata": {},
   "source": [
    "### Changing the column names for Production Budget, Worldwide Gross and Domestic Gross"
   ]
  },
  {
   "cell_type": "code",
   "execution_count": 9,
   "id": "902f13a7",
   "metadata": {},
   "outputs": [
    {
     "data": {
      "text/html": [
       "<div>\n",
       "<style scoped>\n",
       "    .dataframe tbody tr th:only-of-type {\n",
       "        vertical-align: middle;\n",
       "    }\n",
       "\n",
       "    .dataframe tbody tr th {\n",
       "        vertical-align: top;\n",
       "    }\n",
       "\n",
       "    .dataframe thead th {\n",
       "        text-align: right;\n",
       "    }\n",
       "</style>\n",
       "<table border=\"1\" class=\"dataframe\">\n",
       "  <thead>\n",
       "    <tr style=\"text-align: right;\">\n",
       "      <th></th>\n",
       "      <th>Rank</th>\n",
       "      <th>Release Date</th>\n",
       "      <th>Movie Title</th>\n",
       "      <th>Production_Budget</th>\n",
       "      <th>Worldwide_Gross</th>\n",
       "      <th>Domestic_Gross</th>\n",
       "    </tr>\n",
       "  </thead>\n",
       "  <tbody>\n",
       "    <tr>\n",
       "      <th>0</th>\n",
       "      <td>5293</td>\n",
       "      <td>8/2/1915</td>\n",
       "      <td>The Birth of a Nation</td>\n",
       "      <td>110000</td>\n",
       "      <td>11000000</td>\n",
       "      <td>10000000</td>\n",
       "    </tr>\n",
       "    <tr>\n",
       "      <th>2</th>\n",
       "      <td>5230</td>\n",
       "      <td>12/24/1916</td>\n",
       "      <td>20,000 Leagues Under the Sea</td>\n",
       "      <td>200000</td>\n",
       "      <td>8000000</td>\n",
       "      <td>8000000</td>\n",
       "    </tr>\n",
       "  </tbody>\n",
       "</table>\n",
       "</div>"
      ],
      "text/plain": [
       "   Rank Release Date                   Movie Title Production_Budget  \\\n",
       "0  5293     8/2/1915         The Birth of a Nation            110000   \n",
       "2  5230   12/24/1916  20,000 Leagues Under the Sea            200000   \n",
       "\n",
       "  Worldwide_Gross Domestic_Gross  \n",
       "0        11000000       10000000  \n",
       "2         8000000        8000000  "
      ]
     },
     "execution_count": 9,
     "metadata": {},
     "output_type": "execute_result"
    }
   ],
   "source": [
    "movie.rename(columns={'Production Budget ($)':'Production_Budget','Worldwide Gross ($)':'Worldwide_Gross','Domestic Gross ($)':'Domestic_Gross'},inplace=True)\n",
    "movie.head(2)"
   ]
  },
  {
   "cell_type": "markdown",
   "id": "e7684ecf",
   "metadata": {},
   "source": [
    "#### Changing the data types for gross and production budget"
   ]
  },
  {
   "cell_type": "code",
   "execution_count": 10,
   "id": "9aa4ae23",
   "metadata": {},
   "outputs": [],
   "source": [
    "movie['Production_Budget'] = pd.to_numeric(movie['Production_Budget'])\n",
    "movie['Worldwide_Gross'] = pd.to_numeric(movie['Worldwide_Gross'])\n",
    "movie['Domestic_Gross'] = pd.to_numeric(movie['Domestic_Gross'])\n",
    "movie['Release Date'] = pd.to_datetime(movie['Release Date'])"
   ]
  },
  {
   "cell_type": "markdown",
   "id": "7b08bc6c",
   "metadata": {},
   "source": [
    "### *Exploratory Data Analysis*"
   ]
  },
  {
   "cell_type": "markdown",
   "id": "0361e44d",
   "metadata": {},
   "source": [
    "#### Basic Description of our dataset"
   ]
  },
  {
   "cell_type": "code",
   "execution_count": 11,
   "id": "7fb0f1a3",
   "metadata": {},
   "outputs": [
    {
     "data": {
      "text/html": [
       "<div>\n",
       "<style scoped>\n",
       "    .dataframe tbody tr th:only-of-type {\n",
       "        vertical-align: middle;\n",
       "    }\n",
       "\n",
       "    .dataframe tbody tr th {\n",
       "        vertical-align: top;\n",
       "    }\n",
       "\n",
       "    .dataframe thead th {\n",
       "        text-align: right;\n",
       "    }\n",
       "</style>\n",
       "<table border=\"1\" class=\"dataframe\">\n",
       "  <thead>\n",
       "    <tr style=\"text-align: right;\">\n",
       "      <th></th>\n",
       "      <th>Rank</th>\n",
       "      <th>Production_Budget</th>\n",
       "      <th>Worldwide_Gross</th>\n",
       "      <th>Domestic_Gross</th>\n",
       "    </tr>\n",
       "  </thead>\n",
       "  <tbody>\n",
       "    <tr>\n",
       "      <th>count</th>\n",
       "      <td>5034.000000</td>\n",
       "      <td>5.034000e+03</td>\n",
       "      <td>5.034000e+03</td>\n",
       "      <td>5.034000e+03</td>\n",
       "    </tr>\n",
       "    <tr>\n",
       "      <th>mean</th>\n",
       "      <td>2571.987882</td>\n",
       "      <td>3.290784e+07</td>\n",
       "      <td>9.515685e+07</td>\n",
       "      <td>4.415985e+07</td>\n",
       "    </tr>\n",
       "    <tr>\n",
       "      <th>std</th>\n",
       "      <td>1513.859403</td>\n",
       "      <td>4.112589e+07</td>\n",
       "      <td>1.726012e+08</td>\n",
       "      <td>6.737926e+07</td>\n",
       "    </tr>\n",
       "    <tr>\n",
       "      <th>min</th>\n",
       "      <td>1.000000</td>\n",
       "      <td>1.100000e+03</td>\n",
       "      <td>2.600000e+01</td>\n",
       "      <td>0.000000e+00</td>\n",
       "    </tr>\n",
       "    <tr>\n",
       "      <th>25%</th>\n",
       "      <td>1266.250000</td>\n",
       "      <td>6.000000e+06</td>\n",
       "      <td>7.000000e+06</td>\n",
       "      <td>3.209372e+06</td>\n",
       "    </tr>\n",
       "    <tr>\n",
       "      <th>50%</th>\n",
       "      <td>2543.500000</td>\n",
       "      <td>1.900000e+07</td>\n",
       "      <td>3.296202e+07</td>\n",
       "      <td>2.034680e+07</td>\n",
       "    </tr>\n",
       "    <tr>\n",
       "      <th>75%</th>\n",
       "      <td>3839.750000</td>\n",
       "      <td>4.200000e+07</td>\n",
       "      <td>1.034471e+08</td>\n",
       "      <td>5.600026e+07</td>\n",
       "    </tr>\n",
       "    <tr>\n",
       "      <th>max</th>\n",
       "      <td>5391.000000</td>\n",
       "      <td>4.250000e+08</td>\n",
       "      <td>2.783919e+09</td>\n",
       "      <td>9.366622e+08</td>\n",
       "    </tr>\n",
       "  </tbody>\n",
       "</table>\n",
       "</div>"
      ],
      "text/plain": [
       "              Rank  Production_Budget  Worldwide_Gross  Domestic_Gross\n",
       "count  5034.000000       5.034000e+03     5.034000e+03    5.034000e+03\n",
       "mean   2571.987882       3.290784e+07     9.515685e+07    4.415985e+07\n",
       "std    1513.859403       4.112589e+07     1.726012e+08    6.737926e+07\n",
       "min       1.000000       1.100000e+03     2.600000e+01    0.000000e+00\n",
       "25%    1266.250000       6.000000e+06     7.000000e+06    3.209372e+06\n",
       "50%    2543.500000       1.900000e+07     3.296202e+07    2.034680e+07\n",
       "75%    3839.750000       4.200000e+07     1.034471e+08    5.600026e+07\n",
       "max    5391.000000       4.250000e+08     2.783919e+09    9.366622e+08"
      ]
     },
     "execution_count": 11,
     "metadata": {},
     "output_type": "execute_result"
    }
   ],
   "source": [
    "movie.describe()"
   ]
  },
  {
   "cell_type": "markdown",
   "id": "9e8c048c",
   "metadata": {},
   "source": [
    "#### Information about our dataset"
   ]
  },
  {
   "cell_type": "code",
   "execution_count": 12,
   "id": "ef01d2d0",
   "metadata": {},
   "outputs": [
    {
     "name": "stdout",
     "output_type": "stream",
     "text": [
      "<class 'pandas.core.frame.DataFrame'>\n",
      "Int64Index: 5034 entries, 0 to 5382\n",
      "Data columns (total 6 columns):\n",
      " #   Column             Non-Null Count  Dtype         \n",
      "---  ------             --------------  -----         \n",
      " 0   Rank               5034 non-null   int64         \n",
      " 1   Release Date       5034 non-null   datetime64[ns]\n",
      " 2   Movie Title        5034 non-null   object        \n",
      " 3   Production_Budget  5034 non-null   int64         \n",
      " 4   Worldwide_Gross    5034 non-null   int64         \n",
      " 5   Domestic_Gross     5034 non-null   int64         \n",
      "dtypes: datetime64[ns](1), int64(4), object(1)\n",
      "memory usage: 275.3+ KB\n"
     ]
    }
   ],
   "source": [
    "movie.info()"
   ]
  },
  {
   "cell_type": "markdown",
   "id": "63ab2be3",
   "metadata": {},
   "source": [
    "**How many movies were released during 2015 and 2019**"
   ]
  },
  {
   "cell_type": "code",
   "execution_count": 13,
   "id": "3a9c3714",
   "metadata": {},
   "outputs": [
    {
     "data": {
      "text/html": [
       "<div>\n",
       "<style scoped>\n",
       "    .dataframe tbody tr th:only-of-type {\n",
       "        vertical-align: middle;\n",
       "    }\n",
       "\n",
       "    .dataframe tbody tr th {\n",
       "        vertical-align: top;\n",
       "    }\n",
       "\n",
       "    .dataframe thead th {\n",
       "        text-align: right;\n",
       "    }\n",
       "</style>\n",
       "<table border=\"1\" class=\"dataframe\">\n",
       "  <thead>\n",
       "    <tr style=\"text-align: right;\">\n",
       "      <th></th>\n",
       "      <th>Rank</th>\n",
       "      <th>Release Date</th>\n",
       "      <th>Movie Title</th>\n",
       "      <th>Production_Budget</th>\n",
       "      <th>Worldwide_Gross</th>\n",
       "      <th>Domestic_Gross</th>\n",
       "    </tr>\n",
       "  </thead>\n",
       "  <tbody>\n",
       "    <tr>\n",
       "      <th>4788</th>\n",
       "      <td>3255</td>\n",
       "      <td>2015-01-04</td>\n",
       "      <td>Woman in Gold</td>\n",
       "      <td>11000000</td>\n",
       "      <td>56758138</td>\n",
       "      <td>33307793</td>\n",
       "    </tr>\n",
       "    <tr>\n",
       "      <th>4789</th>\n",
       "      <td>10</td>\n",
       "      <td>2015-01-05</td>\n",
       "      <td>Avengers: Age of Ultron</td>\n",
       "      <td>250000000</td>\n",
       "      <td>1404705868</td>\n",
       "      <td>459005868</td>\n",
       "    </tr>\n",
       "    <tr>\n",
       "      <th>4790</th>\n",
       "      <td>129</td>\n",
       "      <td>2015-01-07</td>\n",
       "      <td>Terminator: Genisys</td>\n",
       "      <td>155000000</td>\n",
       "      <td>440160956</td>\n",
       "      <td>89760956</td>\n",
       "    </tr>\n",
       "    <tr>\n",
       "      <th>4791</th>\n",
       "      <td>2952</td>\n",
       "      <td>2015-01-07</td>\n",
       "      <td>Magic Mike XXL</td>\n",
       "      <td>14500000</td>\n",
       "      <td>123709460</td>\n",
       "      <td>66013057</td>\n",
       "    </tr>\n",
       "    <tr>\n",
       "      <th>4792</th>\n",
       "      <td>2947</td>\n",
       "      <td>2015-01-09</td>\n",
       "      <td>Broken Horses</td>\n",
       "      <td>15000000</td>\n",
       "      <td>3471</td>\n",
       "      <td>0</td>\n",
       "    </tr>\n",
       "    <tr>\n",
       "      <th>...</th>\n",
       "      <td>...</td>\n",
       "      <td>...</td>\n",
       "      <td>...</td>\n",
       "      <td>...</td>\n",
       "      <td>...</td>\n",
       "      <td>...</td>\n",
       "    </tr>\n",
       "    <tr>\n",
       "      <th>5378</th>\n",
       "      <td>914</td>\n",
       "      <td>2017-10-02</td>\n",
       "      <td>Fifty Shades Darker</td>\n",
       "      <td>55000000</td>\n",
       "      <td>376856949</td>\n",
       "      <td>114434010</td>\n",
       "    </tr>\n",
       "    <tr>\n",
       "      <th>5379</th>\n",
       "      <td>1295</td>\n",
       "      <td>2017-10-02</td>\n",
       "      <td>John Wick: Chapter Two</td>\n",
       "      <td>40000000</td>\n",
       "      <td>166893990</td>\n",
       "      <td>92029184</td>\n",
       "    </tr>\n",
       "    <tr>\n",
       "      <th>5380</th>\n",
       "      <td>70</td>\n",
       "      <td>2017-10-03</td>\n",
       "      <td>Kong: Skull Island</td>\n",
       "      <td>185000000</td>\n",
       "      <td>561137727</td>\n",
       "      <td>168052812</td>\n",
       "    </tr>\n",
       "    <tr>\n",
       "      <th>5381</th>\n",
       "      <td>94</td>\n",
       "      <td>2017-12-05</td>\n",
       "      <td>King Arthur: Legend of the Sword</td>\n",
       "      <td>175000000</td>\n",
       "      <td>140012608</td>\n",
       "      <td>39175066</td>\n",
       "    </tr>\n",
       "    <tr>\n",
       "      <th>5382</th>\n",
       "      <td>1254</td>\n",
       "      <td>2017-12-05</td>\n",
       "      <td>Snatched</td>\n",
       "      <td>42000000</td>\n",
       "      <td>57850343</td>\n",
       "      <td>45850343</td>\n",
       "    </tr>\n",
       "  </tbody>\n",
       "</table>\n",
       "<p>472 rows × 6 columns</p>\n",
       "</div>"
      ],
      "text/plain": [
       "      Rank Release Date                       Movie Title  Production_Budget  \\\n",
       "4788  3255   2015-01-04                     Woman in Gold           11000000   \n",
       "4789    10   2015-01-05           Avengers: Age of Ultron          250000000   \n",
       "4790   129   2015-01-07               Terminator: Genisys          155000000   \n",
       "4791  2952   2015-01-07                    Magic Mike XXL           14500000   \n",
       "4792  2947   2015-01-09                     Broken Horses           15000000   \n",
       "...    ...          ...                               ...                ...   \n",
       "5378   914   2017-10-02               Fifty Shades Darker           55000000   \n",
       "5379  1295   2017-10-02            John Wick: Chapter Two           40000000   \n",
       "5380    70   2017-10-03                Kong: Skull Island          185000000   \n",
       "5381    94   2017-12-05  King Arthur: Legend of the Sword          175000000   \n",
       "5382  1254   2017-12-05                          Snatched           42000000   \n",
       "\n",
       "      Worldwide_Gross  Domestic_Gross  \n",
       "4788         56758138        33307793  \n",
       "4789       1404705868       459005868  \n",
       "4790        440160956        89760956  \n",
       "4791        123709460        66013057  \n",
       "4792             3471               0  \n",
       "...               ...             ...  \n",
       "5378        376856949       114434010  \n",
       "5379        166893990        92029184  \n",
       "5380        561137727       168052812  \n",
       "5381        140012608        39175066  \n",
       "5382         57850343        45850343  \n",
       "\n",
       "[472 rows x 6 columns]"
      ]
     },
     "execution_count": 13,
     "metadata": {},
     "output_type": "execute_result"
    }
   ],
   "source": [
    "movie[(movie['Release Date'] > '2015-01-01') & (movie['Release Date'] < '2019-12-31')]"
   ]
  },
  {
   "cell_type": "markdown",
   "id": "2b2fd7ef",
   "metadata": {},
   "source": [
    "**Movies with production budget greater than 11000000 and released before 2015**"
   ]
  },
  {
   "cell_type": "code",
   "execution_count": 14,
   "id": "ee65e99e",
   "metadata": {},
   "outputs": [
    {
     "data": {
      "text/html": [
       "<div>\n",
       "<style scoped>\n",
       "    .dataframe tbody tr th:only-of-type {\n",
       "        vertical-align: middle;\n",
       "    }\n",
       "\n",
       "    .dataframe tbody tr th {\n",
       "        vertical-align: top;\n",
       "    }\n",
       "\n",
       "    .dataframe thead th {\n",
       "        text-align: right;\n",
       "    }\n",
       "</style>\n",
       "<table border=\"1\" class=\"dataframe\">\n",
       "  <thead>\n",
       "    <tr style=\"text-align: right;\">\n",
       "      <th></th>\n",
       "      <th>Rank</th>\n",
       "      <th>Release Date</th>\n",
       "      <th>Movie Title</th>\n",
       "      <th>Production_Budget</th>\n",
       "      <th>Worldwide_Gross</th>\n",
       "      <th>Domestic_Gross</th>\n",
       "    </tr>\n",
       "  </thead>\n",
       "  <tbody>\n",
       "    <tr>\n",
       "      <th>72</th>\n",
       "      <td>3020</td>\n",
       "      <td>1956-05-10</td>\n",
       "      <td>The Ten Commandments</td>\n",
       "      <td>13500000</td>\n",
       "      <td>80000000</td>\n",
       "      <td>80000000</td>\n",
       "    </tr>\n",
       "    <tr>\n",
       "      <th>84</th>\n",
       "      <td>2802</td>\n",
       "      <td>1959-11-18</td>\n",
       "      <td>Ben-Hur</td>\n",
       "      <td>15000000</td>\n",
       "      <td>73000000</td>\n",
       "      <td>73000000</td>\n",
       "    </tr>\n",
       "    <tr>\n",
       "      <th>88</th>\n",
       "      <td>3151</td>\n",
       "      <td>1960-07-10</td>\n",
       "      <td>Spartacus</td>\n",
       "      <td>12000000</td>\n",
       "      <td>60000000</td>\n",
       "      <td>30000000</td>\n",
       "    </tr>\n",
       "    <tr>\n",
       "      <th>89</th>\n",
       "      <td>3185</td>\n",
       "      <td>1960-10-24</td>\n",
       "      <td>The Alamo</td>\n",
       "      <td>12000000</td>\n",
       "      <td>7900000</td>\n",
       "      <td>7900000</td>\n",
       "    </tr>\n",
       "    <tr>\n",
       "      <th>98</th>\n",
       "      <td>2546</td>\n",
       "      <td>1962-08-11</td>\n",
       "      <td>Mutiny on The Bounty</td>\n",
       "      <td>19000000</td>\n",
       "      <td>13680000</td>\n",
       "      <td>13680000</td>\n",
       "    </tr>\n",
       "    <tr>\n",
       "      <th>...</th>\n",
       "      <td>...</td>\n",
       "      <td>...</td>\n",
       "      <td>...</td>\n",
       "      <td>...</td>\n",
       "      <td>...</td>\n",
       "      <td>...</td>\n",
       "    </tr>\n",
       "    <tr>\n",
       "      <th>4758</th>\n",
       "      <td>716</td>\n",
       "      <td>2014-12-25</td>\n",
       "      <td>Unbroken</td>\n",
       "      <td>65000000</td>\n",
       "      <td>163527824</td>\n",
       "      <td>115637895</td>\n",
       "    </tr>\n",
       "    <tr>\n",
       "      <th>4759</th>\n",
       "      <td>882</td>\n",
       "      <td>2014-12-25</td>\n",
       "      <td>American Sniper</td>\n",
       "      <td>58000000</td>\n",
       "      <td>547326372</td>\n",
       "      <td>350126372</td>\n",
       "    </tr>\n",
       "    <tr>\n",
       "      <th>4760</th>\n",
       "      <td>1010</td>\n",
       "      <td>2014-12-25</td>\n",
       "      <td>Into the Woods</td>\n",
       "      <td>50000000</td>\n",
       "      <td>203502372</td>\n",
       "      <td>128002372</td>\n",
       "    </tr>\n",
       "    <tr>\n",
       "      <th>4763</th>\n",
       "      <td>1434</td>\n",
       "      <td>2014-12-31</td>\n",
       "      <td>Dragon Nest Warriors' Dawn</td>\n",
       "      <td>40000000</td>\n",
       "      <td>196090</td>\n",
       "      <td>0</td>\n",
       "    </tr>\n",
       "    <tr>\n",
       "      <th>4764</th>\n",
       "      <td>2474</td>\n",
       "      <td>2014-12-31</td>\n",
       "      <td>A Most Violent Year</td>\n",
       "      <td>20000000</td>\n",
       "      <td>6071433</td>\n",
       "      <td>5749134</td>\n",
       "    </tr>\n",
       "  </tbody>\n",
       "</table>\n",
       "<p>2878 rows × 6 columns</p>\n",
       "</div>"
      ],
      "text/plain": [
       "      Rank Release Date                 Movie Title  Production_Budget  \\\n",
       "72    3020   1956-05-10        The Ten Commandments           13500000   \n",
       "84    2802   1959-11-18                     Ben-Hur           15000000   \n",
       "88    3151   1960-07-10                   Spartacus           12000000   \n",
       "89    3185   1960-10-24                   The Alamo           12000000   \n",
       "98    2546   1962-08-11        Mutiny on The Bounty           19000000   \n",
       "...    ...          ...                         ...                ...   \n",
       "4758   716   2014-12-25                    Unbroken           65000000   \n",
       "4759   882   2014-12-25             American Sniper           58000000   \n",
       "4760  1010   2014-12-25              Into the Woods           50000000   \n",
       "4763  1434   2014-12-31  Dragon Nest Warriors' Dawn           40000000   \n",
       "4764  2474   2014-12-31         A Most Violent Year           20000000   \n",
       "\n",
       "      Worldwide_Gross  Domestic_Gross  \n",
       "72           80000000        80000000  \n",
       "84           73000000        73000000  \n",
       "88           60000000        30000000  \n",
       "89            7900000         7900000  \n",
       "98           13680000        13680000  \n",
       "...               ...             ...  \n",
       "4758        163527824       115637895  \n",
       "4759        547326372       350126372  \n",
       "4760        203502372       128002372  \n",
       "4763           196090               0  \n",
       "4764          6071433         5749134  \n",
       "\n",
       "[2878 rows x 6 columns]"
      ]
     },
     "execution_count": 14,
     "metadata": {},
     "output_type": "execute_result"
    }
   ],
   "source": [
    "movie[(movie['Production_Budget'] > 11000000) & (movie['Release Date'] < '2015-01-01')]"
   ]
  },
  {
   "cell_type": "code",
   "execution_count": null,
   "id": "669f6c07",
   "metadata": {},
   "outputs": [],
   "source": []
  },
  {
   "cell_type": "markdown",
   "id": "8e667a24",
   "metadata": {},
   "source": [
    "### *Visualisation*"
   ]
  },
  {
   "cell_type": "markdown",
   "id": "16d82780",
   "metadata": {},
   "source": [
    "**Plot a scatterplot for production budget vs worldwide gross**"
   ]
  },
  {
   "cell_type": "code",
   "execution_count": 61,
   "id": "0f738b3e",
   "metadata": {},
   "outputs": [
    {
     "data": {
      "text/plain": [
       "<AxesSubplot:xlabel='Production_Budget', ylabel='Worldwide_Gross'>"
      ]
     },
     "execution_count": 61,
     "metadata": {},
     "output_type": "execute_result"
    },
    {
     "data": {
      "image/png": "[encoded data removed]",
      "text/plain": [
       "<Figure size 720x432 with 1 Axes>"
      ]
     },
     "metadata": {
      "needs_background": "light"
     },
     "output_type": "display_data"
    }
   ],
   "source": [
    "plt.figure(figsize=(10,6))\n",
    "sns.scatterplot(x='Production_Budget',y='Worldwide_Gross',data=movie,s=70)"
   ]
  },
  {
   "cell_type": "markdown",
   "id": "6497f33d",
   "metadata": {},
   "source": [
    "#### Plot a Graph for worldwide gross vs domestic gross"
   ]
  },
  {
   "cell_type": "code",
   "execution_count": 19,
   "id": "6d9b2d7f",
   "metadata": {},
   "outputs": [
    {
     "data": {
      "text/plain": [
       "<AxesSubplot:xlabel='Worldwide_Gross', ylabel='Domestic_Gross'>"
      ]
     },
     "execution_count": 19,
     "metadata": {},
     "output_type": "execute_result"
    },
    {
     "data": {
      "image/png": "[encoded data removed]",
      "text/plain": [
       "<Figure size 720x432 with 1 Axes>"
      ]
     },
     "metadata": {
      "needs_background": "light"
     },
     "output_type": "display_data"
    }
   ],
   "source": [
    "plt.figure(figsize=(10,6))\n",
    "sns.scatterplot(x='Worldwide_Gross',y='Domestic_Gross',data=movie,s=80)"
   ]
  },
  {
   "cell_type": "markdown",
   "id": "6108422e",
   "metadata": {},
   "source": [
    "**Add a countplot for number of movies released during 2010 and 2015**"
   ]
  },
  {
   "cell_type": "code",
   "execution_count": 21,
   "id": "f2bb00cb",
   "metadata": {},
   "outputs": [],
   "source": [
    "movie['Year'] = movie['Release Date'].dt.year\n",
    "movie[(movie['Year'] > 2010 ) & (movie['Year'] < 2015)]"
   ]
  },
  {
   "cell_type": "code",
   "execution_count": 39,
   "id": "1f7e61c0",
   "metadata": {},
   "outputs": [
    {
     "data": {
      "text/plain": [
       "<AxesSubplot:xlabel='Year', ylabel='count'>"
      ]
     },
     "execution_count": 39,
     "metadata": {},
     "output_type": "execute_result"
    },
    {
     "data": {
      "image/png": "[encoded data removed]",
      "text/plain": [
       "<Figure size 720x432 with 1 Axes>"
      ]
     },
     "metadata": {
      "needs_background": "light"
     },
     "output_type": "display_data"
    }
   ],
   "source": [
    "plt.figure(figsize=(10,6))\n",
    "sns.countplot(x='Year',data=movie[(movie['Year'] > 2000 ) & (movie['Year'] < 2015)],color='orange',hatch='/',lw=3,ec='white')"
   ]
  },
  {
   "cell_type": "markdown",
   "id": "a08a7e69",
   "metadata": {},
   "source": [
    "### Data Predictions"
   ]
  },
  {
   "cell_type": "code",
   "execution_count": 45,
   "id": "736a35dc",
   "metadata": {},
   "outputs": [],
   "source": [
    "from sklearn.model_selection import train_test_split"
   ]
  },
  {
   "cell_type": "markdown",
   "id": "f26005ee",
   "metadata": {},
   "source": [
    "**Divide the data into Training and Testing sets**"
   ]
  },
  {
   "cell_type": "code",
   "execution_count": 46,
   "id": "5f76bee2",
   "metadata": {},
   "outputs": [
    {
     "data": {
      "text/plain": [
       "Index(['Rank', 'Release Date', 'Movie Title', 'Production_Budget',\n",
       "       'Worldwide_Gross', 'Domestic_Gross', 'Year'],\n",
       "      dtype='object')"
      ]
     },
     "execution_count": 46,
     "metadata": {},
     "output_type": "execute_result"
    }
   ],
   "source": [
    "movie.columns"
   ]
  },
  {
   "cell_type": "code",
   "execution_count": 49,
   "id": "791a7d98",
   "metadata": {},
   "outputs": [],
   "source": [
    "X = movie[['Production_Budget','Worldwide_Gross']]\n",
    "y = movie['Domestic_Gross']"
   ]
  },
  {
   "cell_type": "code",
   "execution_count": 50,
   "id": "a7d1419c",
   "metadata": {},
   "outputs": [],
   "source": [
    "X_train, X_test, y_train, y_test = train_test_split(X, y, test_size=0.33, random_state=100)"
   ]
  },
  {
   "cell_type": "markdown",
   "id": "eedda688",
   "metadata": {},
   "source": [
    "**Training the model using linear regression**"
   ]
  },
  {
   "cell_type": "code",
   "execution_count": 51,
   "id": "67f1f2b4",
   "metadata": {},
   "outputs": [],
   "source": [
    "from sklearn.linear_model import LinearRegression"
   ]
  },
  {
   "cell_type": "markdown",
   "id": "a79cd01a",
   "metadata": {},
   "source": [
    "**Create an object of LinearRegression()**"
   ]
  },
  {
   "cell_type": "code",
   "execution_count": 52,
   "id": "792b248f",
   "metadata": {},
   "outputs": [],
   "source": [
    "lm =LinearRegression()"
   ]
  },
  {
   "cell_type": "markdown",
   "id": "a7f5517e",
   "metadata": {},
   "source": [
    "**Train/fit your model**"
   ]
  },
  {
   "cell_type": "code",
   "execution_count": 53,
   "id": "f85f4475",
   "metadata": {},
   "outputs": [
    {
     "data": {
      "text/plain": [
       "LinearRegression()"
      ]
     },
     "execution_count": 53,
     "metadata": {},
     "output_type": "execute_result"
    }
   ],
   "source": [
    "lm.fit(X_train, y_train)"
   ]
  },
  {
   "cell_type": "markdown",
   "id": "b1df56b0",
   "metadata": {},
   "source": [
    "**Print out the coefficients of the model**"
   ]
  },
  {
   "cell_type": "code",
   "execution_count": 54,
   "id": "38c068dd",
   "metadata": {},
   "outputs": [
    {
     "data": {
      "text/plain": [
       "array([-0.07248841,  0.37604121])"
      ]
     },
     "execution_count": 54,
     "metadata": {},
     "output_type": "execute_result"
    }
   ],
   "source": [
    "lm.coef_"
   ]
  },
  {
   "cell_type": "markdown",
   "id": "52a286eb",
   "metadata": {},
   "source": [
    "### Predicting Test Data\n",
    "#### Now that we have fit our model lets evaluate its performance by predicting off the test values"
   ]
  },
  {
   "cell_type": "code",
   "execution_count": 59,
   "id": "b9e2fceb",
   "metadata": {},
   "outputs": [],
   "source": [
    "predictions = lm.predict(X_test)"
   ]
  },
  {
   "cell_type": "markdown",
   "id": "76877a13",
   "metadata": {},
   "source": [
    "**Plotting a scatterplot for real test values vs the predicted values**"
   ]
  },
  {
   "cell_type": "code",
   "execution_count": 93,
   "id": "1c19dba0",
   "metadata": {},
   "outputs": [
    {
     "data": {
      "image/png": "[encoded data removed]",
      "text/plain": [
       "<Figure size 1008x288 with 1 Axes>"
      ]
     },
     "metadata": {
      "needs_background": "light"
     },
     "output_type": "display_data"
    }
   ],
   "source": [
    "plt.figure(figsize=(14,4))\n",
    "plt.ylabel('True Values')\n",
    "sns.regplot(x=y_test,y=predictions,fit_reg=True,ci=25,marker='o',scatter_kws={'color':'green','s':90,'ec':'white'})\n",
    "plt.grid()"
   ]
  },
  {
   "cell_type": "markdown",
   "id": "97163ac6",
   "metadata": {},
   "source": [
    "### Evaluate the model\n",
    "#### Calculate the mean absolute error, mean squared error, and the root mean square error"
   ]
  },
  {
   "cell_type": "code",
   "execution_count": 94,
   "id": "3aa25053",
   "metadata": {},
   "outputs": [],
   "source": [
    "from sklearn import metrics"
   ]
  },
  {
   "cell_type": "code",
   "execution_count": 95,
   "id": "459f82bb",
   "metadata": {},
   "outputs": [
    {
     "name": "stdout",
     "output_type": "stream",
     "text": [
      "MAE : 14567656.84410259\n",
      "MSE : 486570077110453.44\n",
      "RMSE : 22058333.507100064\n"
     ]
    }
   ],
   "source": [
    "print(\"MAE :\",metrics.mean_absolute_error(y_test,predictions))\n",
    "print(\"MSE :\",metrics.mean_squared_error(y_test,predictions))\n",
    "print(\"RMSE :\",np.sqrt(metrics.mean_squared_error(y_test,predictions)))"
   ]
  },
  {
   "cell_type": "markdown",
   "id": "b36eca0f",
   "metadata": {},
   "source": [
    "#### Explained Variance Score"
   ]
  },
  {
   "cell_type": "code",
   "execution_count": 96,
   "id": "6fd6fbfe",
   "metadata": {},
   "outputs": [
    {
     "data": {
      "text/plain": [
       "0.8871133000561661"
      ]
     },
     "execution_count": 96,
     "metadata": {},
     "output_type": "execute_result"
    }
   ],
   "source": [
    "metrics.explained_variance_score(y_test,predictions)"
   ]
  },
  {
   "cell_type": "markdown",
   "id": "73967bd7",
   "metadata": {},
   "source": [
    "#### Plot a histogram of the residuals to make sure it looks normally distributed"
   ]
  },
  {
   "cell_type": "code",
   "execution_count": 117,
   "id": "63365fe2",
   "metadata": {},
   "outputs": [
    {
     "data": {
      "text/plain": [
       "<seaborn.axisgrid.FacetGrid at 0x29c37eed7c0>"
      ]
     },
     "execution_count": 117,
     "metadata": {},
     "output_type": "execute_result"
    },
    {
     "data": {
      "image/png": "[encoded data removed]",
      "text/plain": [
       "<Figure size 720x360 with 1 Axes>"
      ]
     },
     "metadata": {
      "needs_background": "light"
     },
     "output_type": "display_data"
    }
   ],
   "source": [
    "sns.displot(y_test-predictions,bins=50,kde=True,lw=2,edgecolor='white',color='green',aspect=2)"
   ]
  },
  {
   "cell_type": "markdown",
   "id": "039ba335",
   "metadata": {},
   "source": [
    "**We need an answer to the question of whether should one invest there money in movie or not**"
   ]
  },
  {
   "cell_type": "code",
   "execution_count": 118,
   "id": "02d1b4bd",
   "metadata": {},
   "outputs": [
    {
     "data": {
      "text/html": [
       "<div>\n",
       "<style scoped>\n",
       "    .dataframe tbody tr th:only-of-type {\n",
       "        vertical-align: middle;\n",
       "    }\n",
       "\n",
       "    .dataframe tbody tr th {\n",
       "        vertical-align: top;\n",
       "    }\n",
       "\n",
       "    .dataframe thead th {\n",
       "        text-align: right;\n",
       "    }\n",
       "</style>\n",
       "<table border=\"1\" class=\"dataframe\">\n",
       "  <thead>\n",
       "    <tr style=\"text-align: right;\">\n",
       "      <th></th>\n",
       "      <th>Coeff</th>\n",
       "    </tr>\n",
       "  </thead>\n",
       "  <tbody>\n",
       "    <tr>\n",
       "      <th>Production_Budget</th>\n",
       "      <td>-0.072488</td>\n",
       "    </tr>\n",
       "    <tr>\n",
       "      <th>Worldwide_Gross</th>\n",
       "      <td>0.376041</td>\n",
       "    </tr>\n",
       "  </tbody>\n",
       "</table>\n",
       "</div>"
      ],
      "text/plain": [
       "                      Coeff\n",
       "Production_Budget -0.072488\n",
       "Worldwide_Gross    0.376041"
      ]
     },
     "execution_count": 118,
     "metadata": {},
     "output_type": "execute_result"
    }
   ],
   "source": [
    "pd.DataFrame(lm.coef_,X.columns,columns=['Coeff'])"
   ]
  },
  {
   "cell_type": "code",
   "execution_count": null,
   "id": "1f4d4265",
   "metadata": {},
   "outputs": [],
   "source": []
  }
 ],
 "metadata": {
  "kernelspec": {
   "display_name": "Python 3",
   "language": "python",
   "name": "python3"
  },
  "language_info": {
   "codemirror_mode": {
    "name": "ipython",
    "version": 3
   },
   "file_extension": ".py",
   "mimetype": "text/x-python",
   "name": "python",
   "nbconvert_exporter": "python",
   "pygments_lexer": "ipython3",
   "version": "3.8.8"
  }
 },
 "nbformat": 4,
 "nbformat_minor": 5
}
